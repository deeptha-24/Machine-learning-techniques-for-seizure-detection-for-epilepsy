{
  "nbformat": 4,
  "nbformat_minor": 0,
  "metadata": {
    "colab": {
      "provenance": []
    },
    "kernelspec": {
      "name": "python3",
      "display_name": "Python 3"
    },
    "language_info": {
      "name": "python"
    }
  },
  "cells": [
    {
      "cell_type": "code",
      "source": [
        "from google.colab import drive\n",
        "drive.mount('/content/drive')"
      ],
      "metadata": {
        "colab": {
          "base_uri": "https://localhost:8080/"
        },
        "id": "8mk4dUsN9Rx3",
        "outputId": "2349d555-3efb-4757-c93c-3f6ebdc870e7"
      },
      "execution_count": null,
      "outputs": [
        {
          "output_type": "stream",
          "name": "stdout",
          "text": [
            "Mounted at /content/drive\n"
          ]
        }
      ]
    },
    {
      "cell_type": "code",
      "execution_count": null,
      "metadata": {
        "id": "ntWYyvO19L7T",
        "colab": {
          "base_uri": "https://localhost:8080/",
          "height": 235
        },
        "outputId": "f33a6324-a817-4a88-c86e-55ac751d777a"
      },
      "outputs": [
        {
          "output_type": "execute_result",
          "data": {
            "text/plain": [
              "   Unnamed: 0   X1   X2   X3   X4   X5   X6   X7   X8   X9  ...  X170  X171  \\\n",
              "0  X21.V1.791  135  190  229  223  192  125   55   -9  -33  ...   -17   -15   \n",
              "1  X15.V1.924  386  382  356  331  320  315  307  272  244  ...   164   150   \n",
              "2     X8.V1.1  -32  -39  -47  -37  -32  -36  -57  -73  -85  ...    57    64   \n",
              "3   X16.V1.60 -105 -101  -96  -92  -89  -95 -102 -100  -87  ...   -82   -81   \n",
              "4   X20.V1.54   -9  -65  -98 -102  -78  -48  -16    0  -21  ...     4     2   \n",
              "\n",
              "   X172  X173  X174  X175  X176  X177  X178  y  \n",
              "0   -31   -77  -103  -127  -116   -83   -51  4  \n",
              "1   146   152   157   156   154   143   129  1  \n",
              "2    48    19   -12   -30   -35   -35   -36  5  \n",
              "3   -80   -77   -85   -77   -72   -69   -65  5  \n",
              "4   -12   -32   -41   -65   -83   -89   -73  5  \n",
              "\n",
              "[5 rows x 180 columns]"
            ],
            "text/html": [
              "\n",
              "  <div id=\"df-bfd834f8-a83b-4fe9-a0c7-c0e48bc28ad6\">\n",
              "    <div class=\"colab-df-container\">\n",
              "      <div>\n",
              "<style scoped>\n",
              "    .dataframe tbody tr th:only-of-type {\n",
              "        vertical-align: middle;\n",
              "    }\n",
              "\n",
              "    .dataframe tbody tr th {\n",
              "        vertical-align: top;\n",
              "    }\n",
              "\n",
              "    .dataframe thead th {\n",
              "        text-align: right;\n",
              "    }\n",
              "</style>\n",
              "<table border=\"1\" class=\"dataframe\">\n",
              "  <thead>\n",
              "    <tr style=\"text-align: right;\">\n",
              "      <th></th>\n",
              "      <th>Unnamed: 0</th>\n",
              "      <th>X1</th>\n",
              "      <th>X2</th>\n",
              "      <th>X3</th>\n",
              "      <th>X4</th>\n",
              "      <th>X5</th>\n",
              "      <th>X6</th>\n",
              "      <th>X7</th>\n",
              "      <th>X8</th>\n",
              "      <th>X9</th>\n",
              "      <th>...</th>\n",
              "      <th>X170</th>\n",
              "      <th>X171</th>\n",
              "      <th>X172</th>\n",
              "      <th>X173</th>\n",
              "      <th>X174</th>\n",
              "      <th>X175</th>\n",
              "      <th>X176</th>\n",
              "      <th>X177</th>\n",
              "      <th>X178</th>\n",
              "      <th>y</th>\n",
              "    </tr>\n",
              "  </thead>\n",
              "  <tbody>\n",
              "    <tr>\n",
              "      <th>0</th>\n",
              "      <td>X21.V1.791</td>\n",
              "      <td>135</td>\n",
              "      <td>190</td>\n",
              "      <td>229</td>\n",
              "      <td>223</td>\n",
              "      <td>192</td>\n",
              "      <td>125</td>\n",
              "      <td>55</td>\n",
              "      <td>-9</td>\n",
              "      <td>-33</td>\n",
              "      <td>...</td>\n",
              "      <td>-17</td>\n",
              "      <td>-15</td>\n",
              "      <td>-31</td>\n",
              "      <td>-77</td>\n",
              "      <td>-103</td>\n",
              "      <td>-127</td>\n",
              "      <td>-116</td>\n",
              "      <td>-83</td>\n",
              "      <td>-51</td>\n",
              "      <td>4</td>\n",
              "    </tr>\n",
              "    <tr>\n",
              "      <th>1</th>\n",
              "      <td>X15.V1.924</td>\n",
              "      <td>386</td>\n",
              "      <td>382</td>\n",
              "      <td>356</td>\n",
              "      <td>331</td>\n",
              "      <td>320</td>\n",
              "      <td>315</td>\n",
              "      <td>307</td>\n",
              "      <td>272</td>\n",
              "      <td>244</td>\n",
              "      <td>...</td>\n",
              "      <td>164</td>\n",
              "      <td>150</td>\n",
              "      <td>146</td>\n",
              "      <td>152</td>\n",
              "      <td>157</td>\n",
              "      <td>156</td>\n",
              "      <td>154</td>\n",
              "      <td>143</td>\n",
              "      <td>129</td>\n",
              "      <td>1</td>\n",
              "    </tr>\n",
              "    <tr>\n",
              "      <th>2</th>\n",
              "      <td>X8.V1.1</td>\n",
              "      <td>-32</td>\n",
              "      <td>-39</td>\n",
              "      <td>-47</td>\n",
              "      <td>-37</td>\n",
              "      <td>-32</td>\n",
              "      <td>-36</td>\n",
              "      <td>-57</td>\n",
              "      <td>-73</td>\n",
              "      <td>-85</td>\n",
              "      <td>...</td>\n",
              "      <td>57</td>\n",
              "      <td>64</td>\n",
              "      <td>48</td>\n",
              "      <td>19</td>\n",
              "      <td>-12</td>\n",
              "      <td>-30</td>\n",
              "      <td>-35</td>\n",
              "      <td>-35</td>\n",
              "      <td>-36</td>\n",
              "      <td>5</td>\n",
              "    </tr>\n",
              "    <tr>\n",
              "      <th>3</th>\n",
              "      <td>X16.V1.60</td>\n",
              "      <td>-105</td>\n",
              "      <td>-101</td>\n",
              "      <td>-96</td>\n",
              "      <td>-92</td>\n",
              "      <td>-89</td>\n",
              "      <td>-95</td>\n",
              "      <td>-102</td>\n",
              "      <td>-100</td>\n",
              "      <td>-87</td>\n",
              "      <td>...</td>\n",
              "      <td>-82</td>\n",
              "      <td>-81</td>\n",
              "      <td>-80</td>\n",
              "      <td>-77</td>\n",
              "      <td>-85</td>\n",
              "      <td>-77</td>\n",
              "      <td>-72</td>\n",
              "      <td>-69</td>\n",
              "      <td>-65</td>\n",
              "      <td>5</td>\n",
              "    </tr>\n",
              "    <tr>\n",
              "      <th>4</th>\n",
              "      <td>X20.V1.54</td>\n",
              "      <td>-9</td>\n",
              "      <td>-65</td>\n",
              "      <td>-98</td>\n",
              "      <td>-102</td>\n",
              "      <td>-78</td>\n",
              "      <td>-48</td>\n",
              "      <td>-16</td>\n",
              "      <td>0</td>\n",
              "      <td>-21</td>\n",
              "      <td>...</td>\n",
              "      <td>4</td>\n",
              "      <td>2</td>\n",
              "      <td>-12</td>\n",
              "      <td>-32</td>\n",
              "      <td>-41</td>\n",
              "      <td>-65</td>\n",
              "      <td>-83</td>\n",
              "      <td>-89</td>\n",
              "      <td>-73</td>\n",
              "      <td>5</td>\n",
              "    </tr>\n",
              "  </tbody>\n",
              "</table>\n",
              "<p>5 rows × 180 columns</p>\n",
              "</div>\n",
              "      <button class=\"colab-df-convert\" onclick=\"convertToInteractive('df-bfd834f8-a83b-4fe9-a0c7-c0e48bc28ad6')\"\n",
              "              title=\"Convert this dataframe to an interactive table.\"\n",
              "              style=\"display:none;\">\n",
              "        \n",
              "  <svg xmlns=\"http://www.w3.org/2000/svg\" height=\"24px\"viewBox=\"0 0 24 24\"\n",
              "       width=\"24px\">\n",
              "    <path d=\"M0 0h24v24H0V0z\" fill=\"none\"/>\n",
              "    <path d=\"M18.56 5.44l.94 2.06.94-2.06 2.06-.94-2.06-.94-.94-2.06-.94 2.06-2.06.94zm-11 1L8.5 8.5l.94-2.06 2.06-.94-2.06-.94L8.5 2.5l-.94 2.06-2.06.94zm10 10l.94 2.06.94-2.06 2.06-.94-2.06-.94-.94-2.06-.94 2.06-2.06.94z\"/><path d=\"M17.41 7.96l-1.37-1.37c-.4-.4-.92-.59-1.43-.59-.52 0-1.04.2-1.43.59L10.3 9.45l-7.72 7.72c-.78.78-.78 2.05 0 2.83L4 21.41c.39.39.9.59 1.41.59.51 0 1.02-.2 1.41-.59l7.78-7.78 2.81-2.81c.8-.78.8-2.07 0-2.86zM5.41 20L4 18.59l7.72-7.72 1.47 1.35L5.41 20z\"/>\n",
              "  </svg>\n",
              "      </button>\n",
              "      \n",
              "  <style>\n",
              "    .colab-df-container {\n",
              "      display:flex;\n",
              "      flex-wrap:wrap;\n",
              "      gap: 12px;\n",
              "    }\n",
              "\n",
              "    .colab-df-convert {\n",
              "      background-color: #E8F0FE;\n",
              "      border: none;\n",
              "      border-radius: 50%;\n",
              "      cursor: pointer;\n",
              "      display: none;\n",
              "      fill: #1967D2;\n",
              "      height: 32px;\n",
              "      padding: 0 0 0 0;\n",
              "      width: 32px;\n",
              "    }\n",
              "\n",
              "    .colab-df-convert:hover {\n",
              "      background-color: #E2EBFA;\n",
              "      box-shadow: 0px 1px 2px rgba(60, 64, 67, 0.3), 0px 1px 3px 1px rgba(60, 64, 67, 0.15);\n",
              "      fill: #174EA6;\n",
              "    }\n",
              "\n",
              "    [theme=dark] .colab-df-convert {\n",
              "      background-color: #3B4455;\n",
              "      fill: #D2E3FC;\n",
              "    }\n",
              "\n",
              "    [theme=dark] .colab-df-convert:hover {\n",
              "      background-color: #434B5C;\n",
              "      box-shadow: 0px 1px 3px 1px rgba(0, 0, 0, 0.15);\n",
              "      filter: drop-shadow(0px 1px 2px rgba(0, 0, 0, 0.3));\n",
              "      fill: #FFFFFF;\n",
              "    }\n",
              "  </style>\n",
              "\n",
              "      <script>\n",
              "        const buttonEl =\n",
              "          document.querySelector('#df-bfd834f8-a83b-4fe9-a0c7-c0e48bc28ad6 button.colab-df-convert');\n",
              "        buttonEl.style.display =\n",
              "          google.colab.kernel.accessAllowed ? 'block' : 'none';\n",
              "\n",
              "        async function convertToInteractive(key) {\n",
              "          const element = document.querySelector('#df-bfd834f8-a83b-4fe9-a0c7-c0e48bc28ad6');\n",
              "          const dataTable =\n",
              "            await google.colab.kernel.invokeFunction('convertToInteractive',\n",
              "                                                     [key], {});\n",
              "          if (!dataTable) return;\n",
              "\n",
              "          const docLinkHtml = 'Like what you see? Visit the ' +\n",
              "            '<a target=\"_blank\" href=https://colab.research.google.com/notebooks/data_table.ipynb>data table notebook</a>'\n",
              "            + ' to learn more about interactive tables.';\n",
              "          element.innerHTML = '';\n",
              "          dataTable['output_type'] = 'display_data';\n",
              "          await google.colab.output.renderOutput(dataTable, element);\n",
              "          const docLink = document.createElement('div');\n",
              "          docLink.innerHTML = docLinkHtml;\n",
              "          element.appendChild(docLink);\n",
              "        }\n",
              "      </script>\n",
              "    </div>\n",
              "  </div>\n",
              "  "
            ]
          },
          "metadata": {},
          "execution_count": 17
        }
      ],
      "source": [
        "import pandas as pd # cleaning the data\n",
        "import numpy as np  # for large calculations\n",
        "import matplotlib.pyplot as plt # matlab\n",
        "import seaborn as sns\n",
        "import missingno as msno\n",
        "\n",
        "from sklearn.svm import LinearSVC\n",
        "from sklearn.preprocessing import StandardScaler\n",
        "from sklearn.metrics import accuracy_score\n",
        "from sklearn.model_selection import train_test_split # 0.1\n",
        "from sklearn.metrics import confusion_matrix # this creates a confusion matrix\n",
        "from sklearn.metrics import plot_confusion_matrix # draws a confusion matrix\n",
        "from sklearn import datasets, linear_model\n",
        "\n",
        "# machine learning\n",
        "# sklearn\n",
        "# tensorflow\n",
        "\n",
        "\n",
        "path = '/content/drive/MyDrive/data.csv'\n",
        "df = pd.read_csv(path)\n",
        "df.head()"
      ]
    },
    {
      "cell_type": "code",
      "source": [
        "# copy the data\n",
        "df = df.copy()\n",
        "\n",
        "  \n",
        "# apply normalization techniques\n",
        "for column in df.columns[1:-1]:\n",
        "    df[column] = (df[column] - df[column].min()) / (df[column].max() - df[column].min())    \n",
        "  \n",
        "# view normalized data\n",
        "print(df)"
      ],
      "metadata": {
        "id": "n5yGUqvDFOp6",
        "colab": {
          "base_uri": "https://localhost:8080/"
        },
        "outputId": "eca5c491-569f-4ca6-d285-1078a9edaaa4"
      },
      "execution_count": null,
      "outputs": [
        {
          "output_type": "stream",
          "name": "stdout",
          "text": [
            "       Unnamed: 0        X1        X2        X3        X4        X5        X6  \\\n",
            "0      X21.V1.791  0.553717  0.571107  0.584371  0.598207  0.599275  0.526728   \n",
            "1      X15.V1.924  0.624123  0.625176  0.620328  0.629447  0.637957  0.579905   \n",
            "2         X8.V1.1  0.506872  0.506618  0.506229  0.522997  0.531581  0.481668   \n",
            "3       X16.V1.60  0.486396  0.489158  0.492356  0.507087  0.514355  0.465155   \n",
            "4       X20.V1.54  0.513324  0.499296  0.491789  0.504194  0.517679  0.478310   \n",
            "...           ...       ...       ...       ...       ...       ...       ...   \n",
            "11495  X22.V1.114  0.509677  0.511405  0.513024  0.526179  0.530372  0.479989   \n",
            "11496  X19.V1.354  0.502665  0.514503  0.527463  0.555973  0.583862  0.550798   \n",
            "11497    X8.V1.28  0.519776  0.519290  0.515855  0.529071  0.544273  0.499020   \n",
            "11498  X10.V1.932  0.504628  0.510560  0.516988  0.530229  0.540647  0.495102   \n",
            "11499  X16.V1.210  0.523983  0.529147  0.535674  0.554527  0.563614  0.509096   \n",
            "\n",
            "             X7        X8        X9  ...      X170      X171      X172  \\\n",
            "0      0.486466  0.462484  0.464883  ...  0.507684  0.554390  0.544073   \n",
            "1      0.551431  0.535948  0.536146  ...  0.557355  0.603836  0.603850   \n",
            "2      0.457592  0.445752  0.451505  ...  0.527991  0.578064  0.570753   \n",
            "3      0.445991  0.438693  0.450990  ...  0.489846  0.534612  0.527524   \n",
            "4      0.468162  0.464837  0.467970  ...  0.513447  0.559485  0.550490   \n",
            "...         ...       ...       ...  ...       ...       ...       ...   \n",
            "11495  0.460686  0.453856  0.461796  ...  0.516465  0.563680  0.558595   \n",
            "11496  0.535705  0.527582  0.523025  ...  0.494512  0.548996  0.552178   \n",
            "11497  0.479247  0.462484  0.474402  ...  0.494512  0.544501  0.533941   \n",
            "11498  0.474091  0.469804  0.479033  ...  0.545554  0.599341  0.604525   \n",
            "11499  0.486208  0.476078  0.481348  ...  0.496158  0.551393  0.553191   \n",
            "\n",
            "           X173      X174      X175      X176      X177      X178  y  \n",
            "0      0.521051  0.489858  0.454331  0.434953  0.435612  0.474893  4  \n",
            "1      0.593542  0.562101  0.528396  0.505486  0.495495  0.522970  1  \n",
            "2      0.551440  0.515143  0.479717  0.456113  0.448331  0.478900  5  \n",
            "3      0.521051  0.494860  0.467417  0.446447  0.439322  0.471154  5  \n",
            "4      0.535296  0.507085  0.470557  0.443574  0.434022  0.469017  5  \n",
            "...         ...       ...       ...       ...       ...       ... ..  \n",
            "11495  0.547009  0.518199  0.482858  0.455590  0.445151  0.475694  2  \n",
            "11496  0.549858  0.525979  0.500131  0.485371  0.488606  0.533921  1  \n",
            "11497  0.525799  0.499861  0.479717  0.464734  0.457340  0.486378  5  \n",
            "11498  0.590693  0.550709  0.510076  0.483020  0.473238  0.503205  3  \n",
            "11499  0.546059  0.519867  0.488616  0.464734  0.458135  0.493857  4  \n",
            "\n",
            "[11500 rows x 180 columns]\n"
          ]
        }
      ]
    },
    {
      "cell_type": "code",
      "source": [
        "msno.matrix(df)"
      ],
      "metadata": {
        "id": "mAZ8xWgJupSo",
        "colab": {
          "base_uri": "https://localhost:8080/",
          "height": 610
        },
        "outputId": "1f20e946-d763-4244-ad8a-680ec4bbf9db"
      },
      "execution_count": null,
      "outputs": [
        {
          "output_type": "execute_result",
          "data": {
            "text/plain": [
              "<matplotlib.axes._subplots.AxesSubplot at 0x7fb4497aa090>"
            ]
          },
          "metadata": {},
          "execution_count": 19
        },
        {
          "output_type": "display_data",
          "data": {
            "text/plain": [
              "<Figure size 1800x720 with 2 Axes>"
            ],
            "image/png": "[encoded data removed]"
          },
          "metadata": {
            "needs_background": "light"
          }
        }
      ]
    },
    {
      "cell_type": "code",
      "source": [
        "df.info()"
      ],
      "metadata": {
        "id": "gX4_VYbAELZ5",
        "colab": {
          "base_uri": "https://localhost:8080/"
        },
        "outputId": "9e3d4076-40ca-4e04-e94d-ba1a6d1a6724"
      },
      "execution_count": null,
      "outputs": [
        {
          "output_type": "stream",
          "name": "stdout",
          "text": [
            "<class 'pandas.core.frame.DataFrame'>\n",
            "RangeIndex: 11500 entries, 0 to 11499\n",
            "Columns: 180 entries, Unnamed: 0 to y\n",
            "dtypes: float64(178), int64(1), object(1)\n",
            "memory usage: 15.8+ MB\n"
          ]
        }
      ]
    },
    {
      "cell_type": "code",
      "source": [
        "negative_results = len(df[df['y']==0])\n",
        "positive_results = len(df[df['y']==1])\n",
        "per_of_negative = negative_results/(negative_results + positive_results)\n",
        "print(\"percentage of negative results is\", per_of_negative*100)\n",
        "per_of_positive = positive_results/(negative_results + positive_results)\n",
        "print(\"percentage of positive results is\", per_of_positive*100)"
      ],
      "metadata": {
        "id": "BtF5sC0wvtZ8",
        "colab": {
          "base_uri": "https://localhost:8080/"
        },
        "outputId": "3506bd44-4112-4b25-cdd9-205f6a93f8ef"
      },
      "execution_count": null,
      "outputs": [
        {
          "output_type": "stream",
          "name": "stdout",
          "text": [
            "percentage of negative results is 0.0\n",
            "percentage of positive results is 100.0\n"
          ]
        }
      ]
    },
    {
      "cell_type": "code",
      "source": [
        "df[\"y\"].replace({2: 0, 3: 0, 4: 0, 5: 0}, inplace=True)"
      ],
      "metadata": {
        "id": "zSlk-npltdzR"
      },
      "execution_count": null,
      "outputs": []
    },
    {
      "cell_type": "code",
      "source": [
        "df[\"y\"].value_counts()"
      ],
      "metadata": {
        "id": "WefiQontxr3K",
        "colab": {
          "base_uri": "https://localhost:8080/"
        },
        "outputId": "55ec6984-c1b4-41ea-de29-6fd2fab216ed"
      },
      "execution_count": null,
      "outputs": [
        {
          "output_type": "execute_result",
          "data": {
            "text/plain": [
              "0    9200\n",
              "1    2300\n",
              "Name: y, dtype: int64"
            ]
          },
          "metadata": {},
          "execution_count": 23
        }
      ]
    },
    {
      "cell_type": "code",
      "source": [
        "df.pop(\"Unnamed: 0\")"
      ],
      "metadata": {
        "id": "_QpyZmUqyFSO",
        "colab": {
          "base_uri": "https://localhost:8080/"
        },
        "outputId": "8af90894-2ed7-4588-daf7-47fa165171bf"
      },
      "execution_count": null,
      "outputs": [
        {
          "output_type": "execute_result",
          "data": {
            "text/plain": [
              "0        X21.V1.791\n",
              "1        X15.V1.924\n",
              "2           X8.V1.1\n",
              "3         X16.V1.60\n",
              "4         X20.V1.54\n",
              "            ...    \n",
              "11495    X22.V1.114\n",
              "11496    X19.V1.354\n",
              "11497      X8.V1.28\n",
              "11498    X10.V1.932\n",
              "11499    X16.V1.210\n",
              "Name: Unnamed: 0, Length: 11500, dtype: object"
            ]
          },
          "metadata": {},
          "execution_count": 24
        }
      ]
    },
    {
      "cell_type": "code",
      "source": [
        "X = df.drop(columns=['y'])\n",
        "y = df['y']\n",
        "X_train, X_test, y_train, y_test= train_test_split(X, y, test_size= 0.30, random_state=0)"
      ],
      "metadata": {
        "id": "UkDastNAyPxz"
      },
      "execution_count": null,
      "outputs": []
    },
    {
      "cell_type": "code",
      "source": [
        "from sklearn.naive_bayes import GaussianNB\n",
        "nb = GaussianNB()\n",
        "nb.fit(X_train, y_train)"
      ],
      "metadata": {
        "id": "9VGiHK5TzGlW",
        "colab": {
          "base_uri": "https://localhost:8080/"
        },
        "outputId": "cbcab614-bdbd-4b71-c29d-528a9c97cbef"
      },
      "execution_count": null,
      "outputs": [
        {
          "output_type": "execute_result",
          "data": {
            "text/plain": [
              "GaussianNB()"
            ]
          },
          "metadata": {},
          "execution_count": 26
        }
      ]
    },
    {
      "cell_type": "code",
      "source": [
        "nb_pred = nb.predict(X_test)\n",
        "accuracy_score(y_test,nb_pred)\n",
        "\n",
        "\n"
      ],
      "metadata": {
        "id": "12wmlzMeymI7",
        "colab": {
          "base_uri": "https://localhost:8080/"
        },
        "outputId": "74f99d2f-0465-42e9-c0a7-5ecafb6ba737"
      },
      "execution_count": null,
      "outputs": [
        {
          "output_type": "execute_result",
          "data": {
            "text/plain": [
              "0.9602898550724638"
            ]
          },
          "metadata": {},
          "execution_count": 27
        }
      ]
    },
    {
      "cell_type": "markdown",
      "source": [],
      "metadata": {
        "id": "SMscuprXEP9y"
      }
    },
    {
      "cell_type": "code",
      "source": [
        "print(confusion_matrix(y_test, nb_pred))"
      ],
      "metadata": {
        "id": "3pNfDNNG_P8c",
        "colab": {
          "base_uri": "https://localhost:8080/"
        },
        "outputId": "158e4c21-eae2-4562-907c-978971626a67"
      },
      "execution_count": null,
      "outputs": [
        {
          "output_type": "stream",
          "name": "stdout",
          "text": [
            "[[2700   59]\n",
            " [  78  613]]\n"
          ]
        }
      ]
    },
    {
      "cell_type": "code",
      "source": [
        "# from sklearn.neural_network import MLPClassifier\n",
        "# mlp=MLPClassifier(hidden_layer_sizes=(5,2),activation='relu')\n",
        "# mlp\n",
        "# mlp.fit(X_train,y_train)\n",
        "# pred=mlp.predict(X_test)\n",
        "# accuracy_score(y_test,pred)\n",
        "\n",
        "# Classical Naive Bayes supports categorical features and models each as conforming to a Multinomial Distribution. \n",
        "# Gaussian Naive Bayes supports continuous valued features and models each as conforming to a Gaussian (normal) distribution. \n",
        "# The bottom line is that when your data set’s features are all categorical, the classical Naive Bayes classifier is appropriate. \n",
        "# When you data set’s features are all continuous, the Gaussian Naive Bayes classifier is appropriate"
      ],
      "metadata": {
        "id": "czdLYRkLzv34"
      },
      "execution_count": null,
      "outputs": []
    }
  ]
}