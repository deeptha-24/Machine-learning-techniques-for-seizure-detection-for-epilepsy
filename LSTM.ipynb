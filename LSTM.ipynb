{
  "nbformat": 4,
  "nbformat_minor": 0,
  "metadata": {
    "colab": {
      "provenance": []
    },
    "kernelspec": {
      "name": "python3",
      "display_name": "Python 3"
    },
    "language_info": {
      "name": "python"
    }
  },
  "cells": [
    {
      "cell_type": "code",
      "execution_count": null,
      "metadata": {
        "colab": {
          "base_uri": "https://localhost:8080/"
        },
        "id": "fQRXjhQGE_Sj",
        "outputId": "e9ca3a67-87ce-494e-b675-4b104f861fa9"
      },
      "outputs": [
        {
          "output_type": "stream",
          "name": "stdout",
          "text": [
            "Mounted at /content/drive\n"
          ]
        }
      ],
      "source": [
        "from google.colab import drive\n",
        "drive.mount('/content/drive')"
      ]
    },
    {
      "cell_type": "code",
      "source": [
        "import pandas as pd # cleaning the data\n",
        "import numpy as np  # for large calculations\n",
        "import matplotlib.pyplot as plt # matlab\n",
        "import seaborn as sns\n",
        "import missingno as msno\n",
        "\n",
        "from sklearn.svm import LinearSVC\n",
        "from sklearn.preprocessing import StandardScaler\n",
        "from sklearn.metrics import accuracy_score\n",
        "from sklearn.model_selection import train_test_split # 0.1\n",
        "from sklearn.metrics import confusion_matrix # this creates a confusion matrix\n",
        "from sklearn.metrics import plot_confusion_matrix # draws a confusion matrix\n",
        "from sklearn import datasets, linear_model\n",
        "from sklearn import preprocessing\n",
        "\n",
        "from sklearn.datasets import load_boston\n",
        "from keras.models import Sequential\n",
        "from keras.layers import Dense, Conv1D, Flatten\n",
        "from sklearn.model_selection import train_test_split\n",
        "from sklearn.metrics import mean_squared_error\n",
        "import matplotlib.pyplot as plt\n",
        "\n",
        "# machine learning\n",
        "# sklearn\n",
        "# tensorflow\n",
        "\n",
        "\n",
        "path = '/content/drive/MyDrive/COLLEGE_3RDSEM/data.csv'\n",
        "df = pd.read_csv(path)\n",
        "df.head()"
      ],
      "metadata": {
        "colab": {
          "base_uri": "https://localhost:8080/",
          "height": 236
        },
        "id": "J5RO6UHUFHMU",
        "outputId": "82984a16-ee31-49f2-b34a-282063e7cac5"
      },
      "execution_count": null,
      "outputs": [
        {
          "output_type": "execute_result",
          "data": {
            "text/plain": [
              "   Unnamed: 0   X1   X2   X3   X4   X5   X6   X7   X8   X9  ...  X170  X171  \\\n",
              "0  X21.V1.791  135  190  229  223  192  125   55   -9  -33  ...   -17   -15   \n",
              "1  X15.V1.924  386  382  356  331  320  315  307  272  244  ...   164   150   \n",
              "2     X8.V1.1  -32  -39  -47  -37  -32  -36  -57  -73  -85  ...    57    64   \n",
              "3   X16.V1.60 -105 -101  -96  -92  -89  -95 -102 -100  -87  ...   -82   -81   \n",
              "4   X20.V1.54   -9  -65  -98 -102  -78  -48  -16    0  -21  ...     4     2   \n",
              "\n",
              "   X172  X173  X174  X175  X176  X177  X178  y  \n",
              "0   -31   -77  -103  -127  -116   -83   -51  4  \n",
              "1   146   152   157   156   154   143   129  1  \n",
              "2    48    19   -12   -30   -35   -35   -36  5  \n",
              "3   -80   -77   -85   -77   -72   -69   -65  5  \n",
              "4   -12   -32   -41   -65   -83   -89   -73  5  \n",
              "\n",
              "[5 rows x 180 columns]"
            ],
            "text/html": [
              "\n",
              "  <div id=\"df-871dba88-2205-49b1-927f-b16b047c00b0\">\n",
              "    <div class=\"colab-df-container\">\n",
              "      <div>\n",
              "<style scoped>\n",
              "    .dataframe tbody tr th:only-of-type {\n",
              "        vertical-align: middle;\n",
              "    }\n",
              "\n",
              "    .dataframe tbody tr th {\n",
              "        vertical-align: top;\n",
              "    }\n",
              "\n",
              "    .dataframe thead th {\n",
              "        text-align: right;\n",
              "    }\n",
              "</style>\n",
              "<table border=\"1\" class=\"dataframe\">\n",
              "  <thead>\n",
              "    <tr style=\"text-align: right;\">\n",
              "      <th></th>\n",
              "      <th>Unnamed: 0</th>\n",
              "      <th>X1</th>\n",
              "      <th>X2</th>\n",
              "      <th>X3</th>\n",
              "      <th>X4</th>\n",
              "      <th>X5</th>\n",
              "      <th>X6</th>\n",
              "      <th>X7</th>\n",
              "      <th>X8</th>\n",
              "      <th>X9</th>\n",
              "      <th>...</th>\n",
              "      <th>X170</th>\n",
              "      <th>X171</th>\n",
              "      <th>X172</th>\n",
              "      <th>X173</th>\n",
              "      <th>X174</th>\n",
              "      <th>X175</th>\n",
              "      <th>X176</th>\n",
              "      <th>X177</th>\n",
              "      <th>X178</th>\n",
              "      <th>y</th>\n",
              "    </tr>\n",
              "  </thead>\n",
              "  <tbody>\n",
              "    <tr>\n",
              "      <th>0</th>\n",
              "      <td>X21.V1.791</td>\n",
              "      <td>135</td>\n",
              "      <td>190</td>\n",
              "      <td>229</td>\n",
              "      <td>223</td>\n",
              "      <td>192</td>\n",
              "      <td>125</td>\n",
              "      <td>55</td>\n",
              "      <td>-9</td>\n",
              "      <td>-33</td>\n",
              "      <td>...</td>\n",
              "      <td>-17</td>\n",
              "      <td>-15</td>\n",
              "      <td>-31</td>\n",
              "      <td>-77</td>\n",
              "      <td>-103</td>\n",
              "      <td>-127</td>\n",
              "      <td>-116</td>\n",
              "      <td>-83</td>\n",
              "      <td>-51</td>\n",
              "      <td>4</td>\n",
              "    </tr>\n",
              "    <tr>\n",
              "      <th>1</th>\n",
              "      <td>X15.V1.924</td>\n",
              "      <td>386</td>\n",
              "      <td>382</td>\n",
              "      <td>356</td>\n",
              "      <td>331</td>\n",
              "      <td>320</td>\n",
              "      <td>315</td>\n",
              "      <td>307</td>\n",
              "      <td>272</td>\n",
              "      <td>244</td>\n",
              "      <td>...</td>\n",
              "      <td>164</td>\n",
              "      <td>150</td>\n",
              "      <td>146</td>\n",
              "      <td>152</td>\n",
              "      <td>157</td>\n",
              "      <td>156</td>\n",
              "      <td>154</td>\n",
              "      <td>143</td>\n",
              "      <td>129</td>\n",
              "      <td>1</td>\n",
              "    </tr>\n",
              "    <tr>\n",
              "      <th>2</th>\n",
              "      <td>X8.V1.1</td>\n",
              "      <td>-32</td>\n",
              "      <td>-39</td>\n",
              "      <td>-47</td>\n",
              "      <td>-37</td>\n",
              "      <td>-32</td>\n",
              "      <td>-36</td>\n",
              "      <td>-57</td>\n",
              "      <td>-73</td>\n",
              "      <td>-85</td>\n",
              "      <td>...</td>\n",
              "      <td>57</td>\n",
              "      <td>64</td>\n",
              "      <td>48</td>\n",
              "      <td>19</td>\n",
              "      <td>-12</td>\n",
              "      <td>-30</td>\n",
              "      <td>-35</td>\n",
              "      <td>-35</td>\n",
              "      <td>-36</td>\n",
              "      <td>5</td>\n",
              "    </tr>\n",
              "    <tr>\n",
              "      <th>3</th>\n",
              "      <td>X16.V1.60</td>\n",
              "      <td>-105</td>\n",
              "      <td>-101</td>\n",
              "      <td>-96</td>\n",
              "      <td>-92</td>\n",
              "      <td>-89</td>\n",
              "      <td>-95</td>\n",
              "      <td>-102</td>\n",
              "      <td>-100</td>\n",
              "      <td>-87</td>\n",
              "      <td>...</td>\n",
              "      <td>-82</td>\n",
              "      <td>-81</td>\n",
              "      <td>-80</td>\n",
              "      <td>-77</td>\n",
              "      <td>-85</td>\n",
              "      <td>-77</td>\n",
              "      <td>-72</td>\n",
              "      <td>-69</td>\n",
              "      <td>-65</td>\n",
              "      <td>5</td>\n",
              "    </tr>\n",
              "    <tr>\n",
              "      <th>4</th>\n",
              "      <td>X20.V1.54</td>\n",
              "      <td>-9</td>\n",
              "      <td>-65</td>\n",
              "      <td>-98</td>\n",
              "      <td>-102</td>\n",
              "      <td>-78</td>\n",
              "      <td>-48</td>\n",
              "      <td>-16</td>\n",
              "      <td>0</td>\n",
              "      <td>-21</td>\n",
              "      <td>...</td>\n",
              "      <td>4</td>\n",
              "      <td>2</td>\n",
              "      <td>-12</td>\n",
              "      <td>-32</td>\n",
              "      <td>-41</td>\n",
              "      <td>-65</td>\n",
              "      <td>-83</td>\n",
              "      <td>-89</td>\n",
              "      <td>-73</td>\n",
              "      <td>5</td>\n",
              "    </tr>\n",
              "  </tbody>\n",
              "</table>\n",
              "<p>5 rows × 180 columns</p>\n",
              "</div>\n",
              "      <button class=\"colab-df-convert\" onclick=\"convertToInteractive('df-871dba88-2205-49b1-927f-b16b047c00b0')\"\n",
              "              title=\"Convert this dataframe to an interactive table.\"\n",
              "              style=\"display:none;\">\n",
              "        \n",
              "  <svg xmlns=\"http://www.w3.org/2000/svg\" height=\"24px\"viewBox=\"0 0 24 24\"\n",
              "       width=\"24px\">\n",
              "    <path d=\"M0 0h24v24H0V0z\" fill=\"none\"/>\n",
              "    <path d=\"M18.56 5.44l.94 2.06.94-2.06 2.06-.94-2.06-.94-.94-2.06-.94 2.06-2.06.94zm-11 1L8.5 8.5l.94-2.06 2.06-.94-2.06-.94L8.5 2.5l-.94 2.06-2.06.94zm10 10l.94 2.06.94-2.06 2.06-.94-2.06-.94-.94-2.06-.94 2.06-2.06.94z\"/><path d=\"M17.41 7.96l-1.37-1.37c-.4-.4-.92-.59-1.43-.59-.52 0-1.04.2-1.43.59L10.3 9.45l-7.72 7.72c-.78.78-.78 2.05 0 2.83L4 21.41c.39.39.9.59 1.41.59.51 0 1.02-.2 1.41-.59l7.78-7.78 2.81-2.81c.8-.78.8-2.07 0-2.86zM5.41 20L4 18.59l7.72-7.72 1.47 1.35L5.41 20z\"/>\n",
              "  </svg>\n",
              "      </button>\n",
              "      \n",
              "  <style>\n",
              "    .colab-df-container {\n",
              "      display:flex;\n",
              "      flex-wrap:wrap;\n",
              "      gap: 12px;\n",
              "    }\n",
              "\n",
              "    .colab-df-convert {\n",
              "      background-color: #E8F0FE;\n",
              "      border: none;\n",
              "      border-radius: 50%;\n",
              "      cursor: pointer;\n",
              "      display: none;\n",
              "      fill: #1967D2;\n",
              "      height: 32px;\n",
              "      padding: 0 0 0 0;\n",
              "      width: 32px;\n",
              "    }\n",
              "\n",
              "    .colab-df-convert:hover {\n",
              "      background-color: #E2EBFA;\n",
              "      box-shadow: 0px 1px 2px rgba(60, 64, 67, 0.3), 0px 1px 3px 1px rgba(60, 64, 67, 0.15);\n",
              "      fill: #174EA6;\n",
              "    }\n",
              "\n",
              "    [theme=dark] .colab-df-convert {\n",
              "      background-color: #3B4455;\n",
              "      fill: #D2E3FC;\n",
              "    }\n",
              "\n",
              "    [theme=dark] .colab-df-convert:hover {\n",
              "      background-color: #434B5C;\n",
              "      box-shadow: 0px 1px 3px 1px rgba(0, 0, 0, 0.15);\n",
              "      filter: drop-shadow(0px 1px 2px rgba(0, 0, 0, 0.3));\n",
              "      fill: #FFFFFF;\n",
              "    }\n",
              "  </style>\n",
              "\n",
              "      <script>\n",
              "        const buttonEl =\n",
              "          document.querySelector('#df-871dba88-2205-49b1-927f-b16b047c00b0 button.colab-df-convert');\n",
              "        buttonEl.style.display =\n",
              "          google.colab.kernel.accessAllowed ? 'block' : 'none';\n",
              "\n",
              "        async function convertToInteractive(key) {\n",
              "          const element = document.querySelector('#df-871dba88-2205-49b1-927f-b16b047c00b0');\n",
              "          const dataTable =\n",
              "            await google.colab.kernel.invokeFunction('convertToInteractive',\n",
              "                                                     [key], {});\n",
              "          if (!dataTable) return;\n",
              "\n",
              "          const docLinkHtml = 'Like what you see? Visit the ' +\n",
              "            '<a target=\"_blank\" href=https://colab.research.google.com/notebooks/data_table.ipynb>data table notebook</a>'\n",
              "            + ' to learn more about interactive tables.';\n",
              "          element.innerHTML = '';\n",
              "          dataTable['output_type'] = 'display_data';\n",
              "          await google.colab.output.renderOutput(dataTable, element);\n",
              "          const docLink = document.createElement('div');\n",
              "          docLink.innerHTML = docLinkHtml;\n",
              "          element.appendChild(docLink);\n",
              "        }\n",
              "      </script>\n",
              "    </div>\n",
              "  </div>\n",
              "  "
            ]
          },
          "metadata": {},
          "execution_count": 3
        }
      ]
    },
    {
      "cell_type": "code",
      "source": [
        "# copy the data\n",
        "df = df.copy()"
      ],
      "metadata": {
        "id": "bPwk5EFNFe4N"
      },
      "execution_count": null,
      "outputs": []
    },
    {
      "cell_type": "code",
      "source": [
        "print(df)"
      ],
      "metadata": {
        "colab": {
          "base_uri": "https://localhost:8080/"
        },
        "id": "f4xpIxnCGdH8",
        "outputId": "e910be46-4594-4200-d5f7-1dc6e1e301e7"
      },
      "execution_count": null,
      "outputs": [
        {
          "output_type": "stream",
          "name": "stdout",
          "text": [
            "       Unnamed: 0   X1   X2   X3   X4   X5   X6   X7   X8   X9  ...  X170  \\\n",
            "0      X21.V1.791  135  190  229  223  192  125   55   -9  -33  ...   -17   \n",
            "1      X15.V1.924  386  382  356  331  320  315  307  272  244  ...   164   \n",
            "2         X8.V1.1  -32  -39  -47  -37  -32  -36  -57  -73  -85  ...    57   \n",
            "3       X16.V1.60 -105 -101  -96  -92  -89  -95 -102 -100  -87  ...   -82   \n",
            "4       X20.V1.54   -9  -65  -98 -102  -78  -48  -16    0  -21  ...     4   \n",
            "...           ...  ...  ...  ...  ...  ...  ...  ...  ...  ...  ...   ...   \n",
            "11495  X22.V1.114  -22  -22  -23  -26  -36  -42  -45  -42  -45  ...    15   \n",
            "11496  X19.V1.354  -47  -11   28   77  141  211  246  240  193  ...   -65   \n",
            "11497    X8.V1.28   14    6  -13  -16   10   26   27   -9    4  ...   -65   \n",
            "11498  X10.V1.932  -40  -25   -9  -12   -2   12    7   19   22  ...   121   \n",
            "11499  X16.V1.210   29   41   57   72   74   62   54   43   31  ...   -59   \n",
            "\n",
            "       X171  X172  X173  X174  X175  X176  X177  X178  y  \n",
            "0       -15   -31   -77  -103  -127  -116   -83   -51  4  \n",
            "1       150   146   152   157   156   154   143   129  1  \n",
            "2        64    48    19   -12   -30   -35   -35   -36  5  \n",
            "3       -81   -80   -77   -85   -77   -72   -69   -65  5  \n",
            "4         2   -12   -32   -41   -65   -83   -89   -73  5  \n",
            "...     ...   ...   ...   ...   ...   ...   ...   ... ..  \n",
            "11495    16    12     5    -1   -18   -37   -47   -48  2  \n",
            "11496   -33    -7    14    27    48    77   117   170  1  \n",
            "11497   -48   -61   -62   -67   -30    -2    -1    -8  5  \n",
            "11498   135   148   143   116    86    68    59    55  3  \n",
            "11499   -25    -4     2     5     4    -2     2    20  4  \n",
            "\n",
            "[11500 rows x 180 columns]\n"
          ]
        }
      ]
    },
    {
      "cell_type": "code",
      "source": [
        "msno.matrix(df)"
      ],
      "metadata": {
        "colab": {
          "base_uri": "https://localhost:8080/",
          "height": 510
        },
        "id": "-TtgpmESGf_P",
        "outputId": "9f1acb8c-d9b7-4b46-a7af-99155b4255fd"
      },
      "execution_count": null,
      "outputs": [
        {
          "output_type": "execute_result",
          "data": {
            "text/plain": [
              "<matplotlib.axes._subplots.AxesSubplot at 0x7f131005e950>"
            ]
          },
          "metadata": {},
          "execution_count": 6
        },
        {
          "output_type": "display_data",
          "data": {
            "text/plain": [
              "<Figure size 1800x720 with 2 Axes>"
            ],
            "image/png": "[encoded data removed]"
          },
          "metadata": {
            "needs_background": "light"
          }
        }
      ]
    },
    {
      "cell_type": "code",
      "source": [
        "df.info()"
      ],
      "metadata": {
        "colab": {
          "base_uri": "https://localhost:8080/"
        },
        "id": "rQGObc8KGl3A",
        "outputId": "780a2a67-7cf4-4a08-af0d-9ba1accbe1bd"
      },
      "execution_count": null,
      "outputs": [
        {
          "output_type": "stream",
          "name": "stdout",
          "text": [
            "<class 'pandas.core.frame.DataFrame'>\n",
            "RangeIndex: 11500 entries, 0 to 11499\n",
            "Columns: 180 entries, Unnamed: 0 to y\n",
            "dtypes: int64(179), object(1)\n",
            "memory usage: 15.8+ MB\n"
          ]
        }
      ]
    },
    {
      "cell_type": "code",
      "source": [
        "negative_results = len(df[df['y']==0])\n",
        "positive_results = len(df[df['y']==1])\n",
        "per_of_negative = negative_results/(negative_results + positive_results)\n",
        "print(\"percentage of negative results is\", per_of_negative*100)\n",
        "per_of_positive = positive_results/(negative_results + positive_results)\n",
        "print(\"percentage of positive results is\", per_of_positive*100)"
      ],
      "metadata": {
        "colab": {
          "base_uri": "https://localhost:8080/"
        },
        "id": "ufyGcHybGojG",
        "outputId": "41b8b911-8b6a-4938-b720-12b3a80caf16"
      },
      "execution_count": null,
      "outputs": [
        {
          "output_type": "stream",
          "name": "stdout",
          "text": [
            "percentage of negative results is 0.0\n",
            "percentage of positive results is 100.0\n"
          ]
        }
      ]
    },
    {
      "cell_type": "code",
      "source": [],
      "metadata": {
        "id": "W2O4X5bsGsNz"
      },
      "execution_count": null,
      "outputs": []
    },
    {
      "cell_type": "code",
      "source": [
        "df[\"y\"].replace({2: 0, 3: 0, 4: 0, 5: 0}, inplace=True)"
      ],
      "metadata": {
        "id": "P6MJFavaGvZD"
      },
      "execution_count": null,
      "outputs": []
    },
    {
      "cell_type": "code",
      "source": [
        "df[\"y\"].value_counts()"
      ],
      "metadata": {
        "colab": {
          "base_uri": "https://localhost:8080/"
        },
        "id": "0bl4eHpBGwGI",
        "outputId": "dec946b2-cc26-4d8b-91f3-eca5e3447096"
      },
      "execution_count": null,
      "outputs": [
        {
          "output_type": "execute_result",
          "data": {
            "text/plain": [
              "0    9200\n",
              "1    2300\n",
              "Name: y, dtype: int64"
            ]
          },
          "metadata": {},
          "execution_count": 10
        }
      ]
    },
    {
      "cell_type": "code",
      "source": [
        "df.pop(\"Unnamed: 0\")"
      ],
      "metadata": {
        "colab": {
          "base_uri": "https://localhost:8080/"
        },
        "id": "HIT4T9cTGyQC",
        "outputId": "e6539021-ff2a-43e1-b1b2-7d27d4cf11b8"
      },
      "execution_count": null,
      "outputs": [
        {
          "output_type": "execute_result",
          "data": {
            "text/plain": [
              "0        X21.V1.791\n",
              "1        X15.V1.924\n",
              "2           X8.V1.1\n",
              "3         X16.V1.60\n",
              "4         X20.V1.54\n",
              "            ...    \n",
              "11495    X22.V1.114\n",
              "11496    X19.V1.354\n",
              "11497      X8.V1.28\n",
              "11498    X10.V1.932\n",
              "11499    X16.V1.210\n",
              "Name: Unnamed: 0, Length: 11500, dtype: object"
            ]
          },
          "metadata": {},
          "execution_count": 11
        }
      ]
    },
    {
      "cell_type": "code",
      "source": [
        "X = df.drop(columns=['y'])\n",
        "X = X.values.reshape(X.shape[0], X.shape[1], 1) \n",
        "print(X.shape)\n",
        "y = df['y'].values\n",
        "X_train, X_test, y_train, y_test= train_test_split(X, y, test_size= 0.30, random_state=0)\n",
        "X_test"
      ],
      "metadata": {
        "colab": {
          "base_uri": "https://localhost:8080/"
        },
        "id": "YAPLW99UG1oC",
        "outputId": "4e90cdcd-ff89-4354-bf90-336ca0d87029"
      },
      "execution_count": null,
      "outputs": [
        {
          "output_type": "stream",
          "name": "stdout",
          "text": [
            "(11500, 178, 1)\n"
          ]
        },
        {
          "output_type": "execute_result",
          "data": {
            "text/plain": [
              "array([[[ -16],\n",
              "        [  -3],\n",
              "        [ -16],\n",
              "        ...,\n",
              "        [ -16],\n",
              "        [ -12],\n",
              "        [ -12]],\n",
              "\n",
              "       [[ 154],\n",
              "        [ 144],\n",
              "        [ 132],\n",
              "        ...,\n",
              "        [-401],\n",
              "        [-437],\n",
              "        [-357]],\n",
              "\n",
              "       [[   3],\n",
              "        [   1],\n",
              "        [   3],\n",
              "        ...,\n",
              "        [  19],\n",
              "        [  14],\n",
              "        [  12]],\n",
              "\n",
              "       ...,\n",
              "\n",
              "       [[ -34],\n",
              "        [ -19],\n",
              "        [ -10],\n",
              "        ...,\n",
              "        [  86],\n",
              "        [ 120],\n",
              "        [  91]],\n",
              "\n",
              "       [[ -24],\n",
              "        [ -43],\n",
              "        [ -60],\n",
              "        ...,\n",
              "        [ -35],\n",
              "        [ -38],\n",
              "        [ -35]],\n",
              "\n",
              "       [[  82],\n",
              "        [  66],\n",
              "        [  37],\n",
              "        ...,\n",
              "        [  66],\n",
              "        [  54],\n",
              "        [  55]]])"
            ]
          },
          "metadata": {},
          "execution_count": 12
        }
      ]
    },
    {
      "cell_type": "code",
      "source": [
        "#LSTM\n",
        "from keras.models import Sequential\n"
      ],
      "metadata": {
        "id": "RGGgWYqtG4qQ"
      },
      "execution_count": null,
      "outputs": []
    },
    {
      "cell_type": "code",
      "source": [
        "from keras.layers import Dense, Dropout\n",
        "from keras.layers import LSTM\n",
        "# When i designed the network, Basically i used heuristic approach\n",
        "X_train=np.array(X_train).reshape(X_train.shape[0],X_train.shape[1],1)\n",
        "X_test=np.array(X_test).reshape(X_test.shape[0],X_test.shape[1],1)\n",
        "model = Sequential()\n",
        "model.add(LSTM(50, input_shape=(X_train.shape[1], X_train.shape[2])))\n",
        "model.add(Dropout(0.1))\n",
        "model.add(Dense(1, activation='sigmoid'))\n",
        "\n",
        "model.compile(loss='binary_crossentropy',\n",
        "              optimizer='rmsprop',\n",
        "              metrics=['accuracy'])\n",
        "# fit network\n",
        "history = model.fit(X_train, y_train, epochs=50, batch_size=72, validation_data=(X_test, y_test), verbose=2, shuffle=False)\n",
        "# plot history\n",
        "plt.plot(history.history['loss'], label='train')\n",
        "plt.plot(history.history['val_loss'], label='test')\n",
        "plt.legend()\n",
        "plt.show()"
      ],
      "metadata": {
        "colab": {
          "base_uri": "https://localhost:8080/",
          "height": 1000
        },
        "id": "MBYeXZMVHCfP",
        "outputId": "5761da7d-b579-488d-f8de-00824b870123"
      },
      "execution_count": null,
      "outputs": [
        {
          "output_type": "stream",
          "name": "stdout",
          "text": [
            "Epoch 1/50\n",
            "112/112 - 15s - loss: 0.3057 - accuracy: 0.8775 - val_loss: 0.1831 - val_accuracy: 0.9406 - 15s/epoch - 135ms/step\n",
            "Epoch 2/50\n",
            "112/112 - 11s - loss: 0.1705 - accuracy: 0.9364 - val_loss: 0.1256 - val_accuracy: 0.9641 - 11s/epoch - 101ms/step\n",
            "Epoch 3/50\n",
            "112/112 - 11s - loss: 0.1421 - accuracy: 0.9524 - val_loss: 0.1469 - val_accuracy: 0.9397 - 11s/epoch - 100ms/step\n",
            "Epoch 4/50\n",
            "112/112 - 11s - loss: 0.1242 - accuracy: 0.9596 - val_loss: 0.1082 - val_accuracy: 0.9632 - 11s/epoch - 100ms/step\n",
            "Epoch 5/50\n",
            "112/112 - 12s - loss: 0.1094 - accuracy: 0.9602 - val_loss: 0.1100 - val_accuracy: 0.9568 - 12s/epoch - 106ms/step\n",
            "Epoch 6/50\n",
            "112/112 - 11s - loss: 0.0996 - accuracy: 0.9665 - val_loss: 0.0903 - val_accuracy: 0.9704 - 11s/epoch - 102ms/step\n",
            "Epoch 7/50\n",
            "112/112 - 12s - loss: 0.0996 - accuracy: 0.9653 - val_loss: 0.0891 - val_accuracy: 0.9670 - 12s/epoch - 108ms/step\n",
            "Epoch 8/50\n",
            "112/112 - 12s - loss: 0.0873 - accuracy: 0.9711 - val_loss: 0.0808 - val_accuracy: 0.9730 - 12s/epoch - 103ms/step\n",
            "Epoch 9/50\n",
            "112/112 - 11s - loss: 0.0841 - accuracy: 0.9720 - val_loss: 0.0773 - val_accuracy: 0.9730 - 11s/epoch - 102ms/step\n",
            "Epoch 10/50\n",
            "112/112 - 13s - loss: 0.0868 - accuracy: 0.9724 - val_loss: 0.0820 - val_accuracy: 0.9693 - 13s/epoch - 115ms/step\n",
            "Epoch 11/50\n",
            "112/112 - 11s - loss: 0.0738 - accuracy: 0.9761 - val_loss: 0.1074 - val_accuracy: 0.9652 - 11s/epoch - 100ms/step\n",
            "Epoch 12/50\n",
            "112/112 - 11s - loss: 0.0776 - accuracy: 0.9730 - val_loss: 0.0651 - val_accuracy: 0.9806 - 11s/epoch - 100ms/step\n",
            "Epoch 13/50\n",
            "112/112 - 12s - loss: 0.0756 - accuracy: 0.9750 - val_loss: 0.0743 - val_accuracy: 0.9783 - 12s/epoch - 111ms/step\n",
            "Epoch 14/50\n",
            "112/112 - 13s - loss: 0.0765 - accuracy: 0.9745 - val_loss: 0.0657 - val_accuracy: 0.9771 - 13s/epoch - 113ms/step\n",
            "Epoch 15/50\n",
            "112/112 - 11s - loss: 0.0767 - accuracy: 0.9753 - val_loss: 0.0688 - val_accuracy: 0.9762 - 11s/epoch - 101ms/step\n",
            "Epoch 16/50\n",
            "112/112 - 11s - loss: 0.0710 - accuracy: 0.9765 - val_loss: 0.0653 - val_accuracy: 0.9791 - 11s/epoch - 100ms/step\n",
            "Epoch 17/50\n",
            "112/112 - 11s - loss: 0.0714 - accuracy: 0.9759 - val_loss: 0.0603 - val_accuracy: 0.9794 - 11s/epoch - 99ms/step\n",
            "Epoch 18/50\n",
            "112/112 - 11s - loss: 0.0770 - accuracy: 0.9752 - val_loss: 0.0581 - val_accuracy: 0.9820 - 11s/epoch - 100ms/step\n",
            "Epoch 19/50\n",
            "112/112 - 11s - loss: 0.0650 - accuracy: 0.9789 - val_loss: 0.0605 - val_accuracy: 0.9797 - 11s/epoch - 100ms/step\n",
            "Epoch 20/50\n",
            "112/112 - 11s - loss: 0.0666 - accuracy: 0.9781 - val_loss: 0.0697 - val_accuracy: 0.9780 - 11s/epoch - 100ms/step\n",
            "Epoch 21/50\n",
            "112/112 - 11s - loss: 0.0606 - accuracy: 0.9798 - val_loss: 0.0564 - val_accuracy: 0.9820 - 11s/epoch - 100ms/step\n",
            "Epoch 22/50\n",
            "112/112 - 11s - loss: 0.0591 - accuracy: 0.9805 - val_loss: 0.0635 - val_accuracy: 0.9777 - 11s/epoch - 99ms/step\n",
            "Epoch 23/50\n",
            "112/112 - 11s - loss: 0.0604 - accuracy: 0.9802 - val_loss: 0.0726 - val_accuracy: 0.9745 - 11s/epoch - 100ms/step\n",
            "Epoch 24/50\n",
            "112/112 - 11s - loss: 0.0636 - accuracy: 0.9794 - val_loss: 0.0645 - val_accuracy: 0.9809 - 11s/epoch - 99ms/step\n",
            "Epoch 25/50\n",
            "112/112 - 11s - loss: 0.0573 - accuracy: 0.9799 - val_loss: 0.0578 - val_accuracy: 0.9823 - 11s/epoch - 99ms/step\n",
            "Epoch 26/50\n",
            "112/112 - 13s - loss: 0.0536 - accuracy: 0.9821 - val_loss: 0.0571 - val_accuracy: 0.9800 - 13s/epoch - 112ms/step\n",
            "Epoch 27/50\n",
            "112/112 - 11s - loss: 0.0563 - accuracy: 0.9816 - val_loss: 0.0524 - val_accuracy: 0.9826 - 11s/epoch - 99ms/step\n",
            "Epoch 28/50\n",
            "112/112 - 11s - loss: 0.0535 - accuracy: 0.9822 - val_loss: 0.0543 - val_accuracy: 0.9803 - 11s/epoch - 101ms/step\n",
            "Epoch 29/50\n",
            "112/112 - 12s - loss: 0.0524 - accuracy: 0.9821 - val_loss: 0.0728 - val_accuracy: 0.9742 - 12s/epoch - 103ms/step\n",
            "Epoch 30/50\n",
            "112/112 - 12s - loss: 0.0498 - accuracy: 0.9832 - val_loss: 0.0575 - val_accuracy: 0.9783 - 12s/epoch - 104ms/step\n",
            "Epoch 31/50\n",
            "112/112 - 11s - loss: 0.0517 - accuracy: 0.9831 - val_loss: 0.0666 - val_accuracy: 0.9745 - 11s/epoch - 102ms/step\n",
            "Epoch 32/50\n",
            "112/112 - 12s - loss: 0.0512 - accuracy: 0.9810 - val_loss: 0.0543 - val_accuracy: 0.9803 - 12s/epoch - 103ms/step\n",
            "Epoch 33/50\n",
            "112/112 - 12s - loss: 0.0475 - accuracy: 0.9843 - val_loss: 0.0533 - val_accuracy: 0.9814 - 12s/epoch - 104ms/step\n",
            "Epoch 34/50\n",
            "112/112 - 12s - loss: 0.0459 - accuracy: 0.9837 - val_loss: 0.0561 - val_accuracy: 0.9806 - 12s/epoch - 104ms/step\n",
            "Epoch 35/50\n",
            "112/112 - 12s - loss: 0.0522 - accuracy: 0.9829 - val_loss: 0.0593 - val_accuracy: 0.9812 - 12s/epoch - 104ms/step\n",
            "Epoch 36/50\n",
            "112/112 - 11s - loss: 0.0460 - accuracy: 0.9850 - val_loss: 0.0524 - val_accuracy: 0.9841 - 11s/epoch - 103ms/step\n",
            "Epoch 37/50\n",
            "112/112 - 12s - loss: 0.0440 - accuracy: 0.9857 - val_loss: 0.0522 - val_accuracy: 0.9817 - 12s/epoch - 103ms/step\n",
            "Epoch 38/50\n",
            "112/112 - 11s - loss: 0.0461 - accuracy: 0.9834 - val_loss: 0.0526 - val_accuracy: 0.9817 - 11s/epoch - 103ms/step\n",
            "Epoch 39/50\n",
            "112/112 - 12s - loss: 0.0411 - accuracy: 0.9857 - val_loss: 0.0539 - val_accuracy: 0.9803 - 12s/epoch - 103ms/step\n",
            "Epoch 40/50\n",
            "112/112 - 12s - loss: 0.0405 - accuracy: 0.9862 - val_loss: 0.0525 - val_accuracy: 0.9820 - 12s/epoch - 103ms/step\n",
            "Epoch 41/50\n",
            "112/112 - 11s - loss: 0.0400 - accuracy: 0.9870 - val_loss: 0.0545 - val_accuracy: 0.9806 - 11s/epoch - 102ms/step\n",
            "Epoch 42/50\n",
            "112/112 - 13s - loss: 0.0422 - accuracy: 0.9858 - val_loss: 0.0572 - val_accuracy: 0.9797 - 13s/epoch - 116ms/step\n",
            "Epoch 43/50\n",
            "112/112 - 11s - loss: 0.0376 - accuracy: 0.9870 - val_loss: 0.0519 - val_accuracy: 0.9817 - 11s/epoch - 101ms/step\n",
            "Epoch 44/50\n",
            "112/112 - 11s - loss: 0.0398 - accuracy: 0.9860 - val_loss: 0.0540 - val_accuracy: 0.9812 - 11s/epoch - 102ms/step\n",
            "Epoch 45/50\n",
            "112/112 - 12s - loss: 0.0381 - accuracy: 0.9871 - val_loss: 0.0554 - val_accuracy: 0.9797 - 12s/epoch - 105ms/step\n",
            "Epoch 46/50\n",
            "112/112 - 11s - loss: 0.0347 - accuracy: 0.9882 - val_loss: 0.0549 - val_accuracy: 0.9820 - 11s/epoch - 102ms/step\n",
            "Epoch 47/50\n",
            "112/112 - 11s - loss: 0.0363 - accuracy: 0.9870 - val_loss: 0.0502 - val_accuracy: 0.9835 - 11s/epoch - 102ms/step\n",
            "Epoch 48/50\n",
            "112/112 - 12s - loss: 0.0384 - accuracy: 0.9875 - val_loss: 0.0498 - val_accuracy: 0.9838 - 12s/epoch - 104ms/step\n",
            "Epoch 49/50\n",
            "112/112 - 11s - loss: 0.0441 - accuracy: 0.9839 - val_loss: 0.0518 - val_accuracy: 0.9826 - 11s/epoch - 103ms/step\n",
            "Epoch 50/50\n",
            "112/112 - 12s - loss: 0.0373 - accuracy: 0.9882 - val_loss: 0.0552 - val_accuracy: 0.9835 - 12s/epoch - 105ms/step\n"
          ]
        },
        {
          "output_type": "display_data",
          "data": {
            "text/plain": [
              "<Figure size 432x288 with 1 Axes>"
            ],
            "image/png": "[encoded data removed]"
          },
          "metadata": {
            "needs_background": "light"
          }
        }
      ]
    },
    {
      "cell_type": "code",
      "source": [],
      "metadata": {
        "id": "U9lcD3ZoHS_5"
      },
      "execution_count": null,
      "outputs": []
    },
    {
      "cell_type": "code",
      "source": [],
      "metadata": {
        "id": "743-TokeHFNT"
      },
      "execution_count": null,
      "outputs": []
    },
    {
      "cell_type": "code",
      "source": [],
      "metadata": {
        "id": "m43AI23qFVke"
      },
      "execution_count": null,
      "outputs": []
    }
  ]
}