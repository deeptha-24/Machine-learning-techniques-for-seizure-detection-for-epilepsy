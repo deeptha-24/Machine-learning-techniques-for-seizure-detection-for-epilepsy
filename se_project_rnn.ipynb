{
  "nbformat": 4,
  "nbformat_minor": 0,
  "metadata": {
    "colab": {
      "provenance": []
    },
    "kernelspec": {
      "name": "python3",
      "display_name": "Python 3"
    },
    "language_info": {
      "name": "python"
    }
  },
  "cells": [
    {
      "cell_type": "code",
      "execution_count": null,
      "metadata": {
        "colab": {
          "base_uri": "https://localhost:8080/"
        },
        "id": "lDX4jEnOTciA",
        "outputId": "d5c5b5fe-e4b5-4ce0-e0bd-5e1370c1cd1d"
      },
      "outputs": [
        {
          "output_type": "stream",
          "name": "stdout",
          "text": [
            "Mounted at /content/drive\n"
          ]
        }
      ],
      "source": [
        "from google.colab import drive\n",
        "drive.mount('/content/drive')"
      ]
    },
    {
      "cell_type": "code",
      "source": [
        "import pandas as pd # cleaning the data\n",
        "import numpy as np  # for large calculations\n",
        "import matplotlib.pyplot as plt # matlab\n",
        "import seaborn as sns\n",
        "import missingno as msno\n",
        "\n",
        "from sklearn.svm import LinearSVC\n",
        "from sklearn.preprocessing import StandardScaler\n",
        "from sklearn.metrics import accuracy_score\n",
        "from sklearn.model_selection import train_test_split # 0.1\n",
        "from sklearn.metrics import confusion_matrix # this creates a confusion matrix\n",
        "from sklearn.metrics import plot_confusion_matrix # draws a confusion matrix\n",
        "from sklearn import datasets, linear_model\n",
        "from sklearn import preprocessing\n",
        "\n",
        "# machine learning\n",
        "# sklearn\n",
        "# tensorflow\n",
        "\n",
        "\n",
        "path = '/content/drive/MyDrive/data.csv'\n",
        "df = pd.read_csv(path)\n",
        "df.head()"
      ],
      "metadata": {
        "colab": {
          "base_uri": "https://localhost:8080/",
          "height": 317
        },
        "id": "HhWgCEU-Tgg5",
        "outputId": "f6a0a430-2caa-48ac-c295-c14de2050a92"
      },
      "execution_count": null,
      "outputs": [
        {
          "output_type": "execute_result",
          "data": {
            "text/plain": [
              "   Unnamed: 0   X1   X2   X3   X4   X5   X6   X7   X8   X9  ...  X170  X171  \\\n",
              "0  X21.V1.791  135  190  229  223  192  125   55   -9  -33  ...   -17   -15   \n",
              "1  X15.V1.924  386  382  356  331  320  315  307  272  244  ...   164   150   \n",
              "2     X8.V1.1  -32  -39  -47  -37  -32  -36  -57  -73  -85  ...    57    64   \n",
              "3   X16.V1.60 -105 -101  -96  -92  -89  -95 -102 -100  -87  ...   -82   -81   \n",
              "4   X20.V1.54   -9  -65  -98 -102  -78  -48  -16    0  -21  ...     4     2   \n",
              "\n",
              "   X172  X173  X174  X175  X176  X177  X178  y  \n",
              "0   -31   -77  -103  -127  -116   -83   -51  4  \n",
              "1   146   152   157   156   154   143   129  1  \n",
              "2    48    19   -12   -30   -35   -35   -36  5  \n",
              "3   -80   -77   -85   -77   -72   -69   -65  5  \n",
              "4   -12   -32   -41   -65   -83   -89   -73  5  \n",
              "\n",
              "[5 rows x 180 columns]"
            ],
            "text/html": [
              "\n",
              "  <div id=\"df-276a09a2-2226-4869-94c9-fedf1eb0027d\">\n",
              "    <div class=\"colab-df-container\">\n",
              "      <div>\n",
              "<style scoped>\n",
              "    .dataframe tbody tr th:only-of-type {\n",
              "        vertical-align: middle;\n",
              "    }\n",
              "\n",
              "    .dataframe tbody tr th {\n",
              "        vertical-align: top;\n",
              "    }\n",
              "\n",
              "    .dataframe thead th {\n",
              "        text-align: right;\n",
              "    }\n",
              "</style>\n",
              "<table border=\"1\" class=\"dataframe\">\n",
              "  <thead>\n",
              "    <tr style=\"text-align: right;\">\n",
              "      <th></th>\n",
              "      <th>Unnamed: 0</th>\n",
              "      <th>X1</th>\n",
              "      <th>X2</th>\n",
              "      <th>X3</th>\n",
              "      <th>X4</th>\n",
              "      <th>X5</th>\n",
              "      <th>X6</th>\n",
              "      <th>X7</th>\n",
              "      <th>X8</th>\n",
              "      <th>X9</th>\n",
              "      <th>...</th>\n",
              "      <th>X170</th>\n",
              "      <th>X171</th>\n",
              "      <th>X172</th>\n",
              "      <th>X173</th>\n",
              "      <th>X174</th>\n",
              "      <th>X175</th>\n",
              "      <th>X176</th>\n",
              "      <th>X177</th>\n",
              "      <th>X178</th>\n",
              "      <th>y</th>\n",
              "    </tr>\n",
              "  </thead>\n",
              "  <tbody>\n",
              "    <tr>\n",
              "      <th>0</th>\n",
              "      <td>X21.V1.791</td>\n",
              "      <td>135</td>\n",
              "      <td>190</td>\n",
              "      <td>229</td>\n",
              "      <td>223</td>\n",
              "      <td>192</td>\n",
              "      <td>125</td>\n",
              "      <td>55</td>\n",
              "      <td>-9</td>\n",
              "      <td>-33</td>\n",
              "      <td>...</td>\n",
              "      <td>-17</td>\n",
              "      <td>-15</td>\n",
              "      <td>-31</td>\n",
              "      <td>-77</td>\n",
              "      <td>-103</td>\n",
              "      <td>-127</td>\n",
              "      <td>-116</td>\n",
              "      <td>-83</td>\n",
              "      <td>-51</td>\n",
              "      <td>4</td>\n",
              "    </tr>\n",
              "    <tr>\n",
              "      <th>1</th>\n",
              "      <td>X15.V1.924</td>\n",
              "      <td>386</td>\n",
              "      <td>382</td>\n",
              "      <td>356</td>\n",
              "      <td>331</td>\n",
              "      <td>320</td>\n",
              "      <td>315</td>\n",
              "      <td>307</td>\n",
              "      <td>272</td>\n",
              "      <td>244</td>\n",
              "      <td>...</td>\n",
              "      <td>164</td>\n",
              "      <td>150</td>\n",
              "      <td>146</td>\n",
              "      <td>152</td>\n",
              "      <td>157</td>\n",
              "      <td>156</td>\n",
              "      <td>154</td>\n",
              "      <td>143</td>\n",
              "      <td>129</td>\n",
              "      <td>1</td>\n",
              "    </tr>\n",
              "    <tr>\n",
              "      <th>2</th>\n",
              "      <td>X8.V1.1</td>\n",
              "      <td>-32</td>\n",
              "      <td>-39</td>\n",
              "      <td>-47</td>\n",
              "      <td>-37</td>\n",
              "      <td>-32</td>\n",
              "      <td>-36</td>\n",
              "      <td>-57</td>\n",
              "      <td>-73</td>\n",
              "      <td>-85</td>\n",
              "      <td>...</td>\n",
              "      <td>57</td>\n",
              "      <td>64</td>\n",
              "      <td>48</td>\n",
              "      <td>19</td>\n",
              "      <td>-12</td>\n",
              "      <td>-30</td>\n",
              "      <td>-35</td>\n",
              "      <td>-35</td>\n",
              "      <td>-36</td>\n",
              "      <td>5</td>\n",
              "    </tr>\n",
              "    <tr>\n",
              "      <th>3</th>\n",
              "      <td>X16.V1.60</td>\n",
              "      <td>-105</td>\n",
              "      <td>-101</td>\n",
              "      <td>-96</td>\n",
              "      <td>-92</td>\n",
              "      <td>-89</td>\n",
              "      <td>-95</td>\n",
              "      <td>-102</td>\n",
              "      <td>-100</td>\n",
              "      <td>-87</td>\n",
              "      <td>...</td>\n",
              "      <td>-82</td>\n",
              "      <td>-81</td>\n",
              "      <td>-80</td>\n",
              "      <td>-77</td>\n",
              "      <td>-85</td>\n",
              "      <td>-77</td>\n",
              "      <td>-72</td>\n",
              "      <td>-69</td>\n",
              "      <td>-65</td>\n",
              "      <td>5</td>\n",
              "    </tr>\n",
              "    <tr>\n",
              "      <th>4</th>\n",
              "      <td>X20.V1.54</td>\n",
              "      <td>-9</td>\n",
              "      <td>-65</td>\n",
              "      <td>-98</td>\n",
              "      <td>-102</td>\n",
              "      <td>-78</td>\n",
              "      <td>-48</td>\n",
              "      <td>-16</td>\n",
              "      <td>0</td>\n",
              "      <td>-21</td>\n",
              "      <td>...</td>\n",
              "      <td>4</td>\n",
              "      <td>2</td>\n",
              "      <td>-12</td>\n",
              "      <td>-32</td>\n",
              "      <td>-41</td>\n",
              "      <td>-65</td>\n",
              "      <td>-83</td>\n",
              "      <td>-89</td>\n",
              "      <td>-73</td>\n",
              "      <td>5</td>\n",
              "    </tr>\n",
              "  </tbody>\n",
              "</table>\n",
              "<p>5 rows × 180 columns</p>\n",
              "</div>\n",
              "      <button class=\"colab-df-convert\" onclick=\"convertToInteractive('df-276a09a2-2226-4869-94c9-fedf1eb0027d')\"\n",
              "              title=\"Convert this dataframe to an interactive table.\"\n",
              "              style=\"display:none;\">\n",
              "        \n",
              "  <svg xmlns=\"http://www.w3.org/2000/svg\" height=\"24px\"viewBox=\"0 0 24 24\"\n",
              "       width=\"24px\">\n",
              "    <path d=\"M0 0h24v24H0V0z\" fill=\"none\"/>\n",
              "    <path d=\"M18.56 5.44l.94 2.06.94-2.06 2.06-.94-2.06-.94-.94-2.06-.94 2.06-2.06.94zm-11 1L8.5 8.5l.94-2.06 2.06-.94-2.06-.94L8.5 2.5l-.94 2.06-2.06.94zm10 10l.94 2.06.94-2.06 2.06-.94-2.06-.94-.94-2.06-.94 2.06-2.06.94z\"/><path d=\"M17.41 7.96l-1.37-1.37c-.4-.4-.92-.59-1.43-.59-.52 0-1.04.2-1.43.59L10.3 9.45l-7.72 7.72c-.78.78-.78 2.05 0 2.83L4 21.41c.39.39.9.59 1.41.59.51 0 1.02-.2 1.41-.59l7.78-7.78 2.81-2.81c.8-.78.8-2.07 0-2.86zM5.41 20L4 18.59l7.72-7.72 1.47 1.35L5.41 20z\"/>\n",
              "  </svg>\n",
              "      </button>\n",
              "      \n",
              "  <style>\n",
              "    .colab-df-container {\n",
              "      display:flex;\n",
              "      flex-wrap:wrap;\n",
              "      gap: 12px;\n",
              "    }\n",
              "\n",
              "    .colab-df-convert {\n",
              "      background-color: #E8F0FE;\n",
              "      border: none;\n",
              "      border-radius: 50%;\n",
              "      cursor: pointer;\n",
              "      display: none;\n",
              "      fill: #1967D2;\n",
              "      height: 32px;\n",
              "      padding: 0 0 0 0;\n",
              "      width: 32px;\n",
              "    }\n",
              "\n",
              "    .colab-df-convert:hover {\n",
              "      background-color: #E2EBFA;\n",
              "      box-shadow: 0px 1px 2px rgba(60, 64, 67, 0.3), 0px 1px 3px 1px rgba(60, 64, 67, 0.15);\n",
              "      fill: #174EA6;\n",
              "    }\n",
              "\n",
              "    [theme=dark] .colab-df-convert {\n",
              "      background-color: #3B4455;\n",
              "      fill: #D2E3FC;\n",
              "    }\n",
              "\n",
              "    [theme=dark] .colab-df-convert:hover {\n",
              "      background-color: #434B5C;\n",
              "      box-shadow: 0px 1px 3px 1px rgba(0, 0, 0, 0.15);\n",
              "      filter: drop-shadow(0px 1px 2px rgba(0, 0, 0, 0.3));\n",
              "      fill: #FFFFFF;\n",
              "    }\n",
              "  </style>\n",
              "\n",
              "      <script>\n",
              "        const buttonEl =\n",
              "          document.querySelector('#df-276a09a2-2226-4869-94c9-fedf1eb0027d button.colab-df-convert');\n",
              "        buttonEl.style.display =\n",
              "          google.colab.kernel.accessAllowed ? 'block' : 'none';\n",
              "\n",
              "        async function convertToInteractive(key) {\n",
              "          const element = document.querySelector('#df-276a09a2-2226-4869-94c9-fedf1eb0027d');\n",
              "          const dataTable =\n",
              "            await google.colab.kernel.invokeFunction('convertToInteractive',\n",
              "                                                     [key], {});\n",
              "          if (!dataTable) return;\n",
              "\n",
              "          const docLinkHtml = 'Like what you see? Visit the ' +\n",
              "            '<a target=\"_blank\" href=https://colab.research.google.com/notebooks/data_table.ipynb>data table notebook</a>'\n",
              "            + ' to learn more about interactive tables.';\n",
              "          element.innerHTML = '';\n",
              "          dataTable['output_type'] = 'display_data';\n",
              "          await google.colab.output.renderOutput(dataTable, element);\n",
              "          const docLink = document.createElement('div');\n",
              "          docLink.innerHTML = docLinkHtml;\n",
              "          element.appendChild(docLink);\n",
              "        }\n",
              "      </script>\n",
              "    </div>\n",
              "  </div>\n",
              "  "
            ]
          },
          "metadata": {},
          "execution_count": 3
        }
      ]
    },
    {
      "cell_type": "code",
      "source": [
        "import numpy\n",
        "from keras.datasets import imdb\n",
        "from keras.models import Sequential\n",
        "from keras.layers import Dense\n",
        "from keras.layers import LSTM\n",
        "from keras.layers.embeddings import Embedding\n",
        "from keras.preprocessing import sequence\n",
        "import tensorflow as tf\n",
        "from tensorflow import keras\n",
        "from tensorflow.keras import layers\n",
        "# fix random seed for reproducibility\n",
        "numpy.random.seed(7)"
      ],
      "metadata": {
        "id": "uIMtSPLqTuJe"
      },
      "execution_count": null,
      "outputs": []
    },
    {
      "cell_type": "code",
      "source": [
        "df.info()"
      ],
      "metadata": {
        "colab": {
          "base_uri": "https://localhost:8080/"
        },
        "id": "VU2iYGUxTiiv",
        "outputId": "d2039929-c708-49d5-bd77-82b5525f0b28"
      },
      "execution_count": null,
      "outputs": [
        {
          "output_type": "stream",
          "name": "stdout",
          "text": [
            "<class 'pandas.core.frame.DataFrame'>\n",
            "RangeIndex: 11500 entries, 0 to 11499\n",
            "Columns: 180 entries, Unnamed: 0 to y\n",
            "dtypes: int64(179), object(1)\n",
            "memory usage: 15.8+ MB\n"
          ]
        }
      ]
    },
    {
      "cell_type": "code",
      "source": [
        "# removing all non epilepsy results and make output as zero\n",
        "df[\"y\"].replace({2: 0, 3: 0, 4: 0, 5: 0}, inplace=True)"
      ],
      "metadata": {
        "id": "9c0Tn9YjTo9d"
      },
      "execution_count": null,
      "outputs": []
    },
    {
      "cell_type": "code",
      "source": [
        "df.pop(\"Unnamed: 0\")"
      ],
      "metadata": {
        "colab": {
          "base_uri": "https://localhost:8080/"
        },
        "id": "HO_gFtkWTrk6",
        "outputId": "67282a5c-ea54-43a1-ea5d-cdf6a52c2460"
      },
      "execution_count": null,
      "outputs": [
        {
          "output_type": "execute_result",
          "data": {
            "text/plain": [
              "0        X21.V1.791\n",
              "1        X15.V1.924\n",
              "2           X8.V1.1\n",
              "3         X16.V1.60\n",
              "4         X20.V1.54\n",
              "            ...    \n",
              "11495    X22.V1.114\n",
              "11496    X19.V1.354\n",
              "11497      X8.V1.28\n",
              "11498    X10.V1.932\n",
              "11499    X16.V1.210\n",
              "Name: Unnamed: 0, Length: 11500, dtype: object"
            ]
          },
          "metadata": {},
          "execution_count": 7
        }
      ]
    },
    {
      "cell_type": "code",
      "source": [
        "msno.matrix(df)"
      ],
      "metadata": {
        "colab": {
          "base_uri": "https://localhost:8080/",
          "height": 281
        },
        "id": "x02QvO3G2Gy8",
        "outputId": "fb9825a7-3720-4b8e-be68-28322ca015a4"
      },
      "execution_count": null,
      "outputs": [
        {
          "output_type": "execute_result",
          "data": {
            "text/plain": [
              "<matplotlib.axes._subplots.AxesSubplot at 0x7fd8c18e8990>"
            ]
          },
          "metadata": {},
          "execution_count": 8
        },
        {
          "output_type": "display_data",
          "data": {
            "text/plain": [
              "<Figure size 1800x720 with 2 Axes>"
            ],
            "image/png": "[encoded data removed]"
          },
          "metadata": {
            "needs_background": "light"
          }
        }
      ]
    },
    {
      "cell_type": "code",
      "source": [
        "X = df.drop(columns=['y'])\n",
        "X = X.values.reshape(X.shape[0], X.shape[1], 1) \n",
        "print(X.shape)\n",
        "y = df['y'].values\n",
        "X_train, X_test, y_train, y_test= train_test_split(X, y, test_size= 0.30, random_state=0)\n"
      ],
      "metadata": {
        "colab": {
          "base_uri": "https://localhost:8080/"
        },
        "id": "fBFHQiYAU6aI",
        "outputId": "0fad552e-a65a-4e94-8614-f3834d94261e"
      },
      "execution_count": null,
      "outputs": [
        {
          "output_type": "stream",
          "name": "stdout",
          "text": [
            "(11500, 178, 1)\n"
          ]
        }
      ]
    },
    {
      "cell_type": "code",
      "source": [
        "# ------->  model creation\n",
        "x = layers.Input(shape=(178, 1)) # we define our input's shape\n",
        "# first we define our RNN cells to use in the RNN model\n",
        "# let's keep the model simple ...\n",
        "cell = layers.SimpleRNNCell(4, activation='tanh')  # ... by just using 4 units (like 4 units in hidden layers)\n",
        "rnn = layers.RNN(cell)\n",
        "rnn_output = rnn(x)"
      ],
      "metadata": {
        "id": "s0sGVT3VX432"
      },
      "execution_count": null,
      "outputs": []
    },
    {
      "cell_type": "code",
      "source": [
        "output = layers.Dense(units=1, activation='sigmoid')(rnn_output)"
      ],
      "metadata": {
        "id": "r2-UonB1YQEU"
      },
      "execution_count": null,
      "outputs": []
    },
    {
      "cell_type": "code",
      "source": [
        "# let's compile the model\n",
        "model = keras.Model(inputs=x, outputs=output)\n",
        "# loss is binary cropss entropy since this is a binary classification task\n",
        "# and evaluation metric as f1\n",
        "model.compile(loss=\"binary_crossentropy\", metrics=[\"accuracy\"])\n",
        "model.summary()"
      ],
      "metadata": {
        "colab": {
          "base_uri": "https://localhost:8080/"
        },
        "id": "zY2LnF-zYUkb",
        "outputId": "a40d5869-6183-4b68-dca7-d5c4d77a0817"
      },
      "execution_count": null,
      "outputs": [
        {
          "output_type": "stream",
          "name": "stdout",
          "text": [
            "Model: \"model\"\n",
            "_________________________________________________________________\n",
            " Layer (type)                Output Shape              Param #   \n",
            "=================================================================\n",
            " input_1 (InputLayer)        [(None, 178, 1)]          0         \n",
            "                                                                 \n",
            " rnn (RNN)                   (None, 4)                 24        \n",
            "                                                                 \n",
            " dense (Dense)               (None, 1)                 5         \n",
            "                                                                 \n",
            "=================================================================\n",
            "Total params: 29\n",
            "Trainable params: 29\n",
            "Non-trainable params: 0\n",
            "_________________________________________________________________\n"
          ]
        }
      ]
    },
    {
      "cell_type": "code",
      "source": [
        "H = model.fit(X_train, y_train, epochs=56, verbose=2, validation_data=(X_test, y_test))"
      ],
      "metadata": {
        "colab": {
          "base_uri": "https://localhost:8080/"
        },
        "id": "OVtioZmGYacd",
        "outputId": "f574760c-441c-4189-a6c0-928551f3b26a"
      },
      "execution_count": null,
      "outputs": [
        {
          "output_type": "stream",
          "name": "stdout",
          "text": [
            "Epoch 1/56\n",
            "252/252 - 9s - loss: 0.6596 - accuracy: 0.5950 - val_loss: 0.6203 - val_accuracy: 0.7826 - 9s/epoch - 34ms/step\n",
            "Epoch 2/56\n",
            "252/252 - 7s - loss: 0.5738 - accuracy: 0.7933 - val_loss: 0.5271 - val_accuracy: 0.7997 - 7s/epoch - 26ms/step\n",
            "Epoch 3/56\n",
            "252/252 - 7s - loss: 0.4818 - accuracy: 0.8001 - val_loss: 0.4392 - val_accuracy: 0.7997 - 7s/epoch - 26ms/step\n",
            "Epoch 4/56\n",
            "252/252 - 7s - loss: 0.4000 - accuracy: 0.8001 - val_loss: 0.3826 - val_accuracy: 0.7997 - 7s/epoch - 26ms/step\n",
            "Epoch 5/56\n",
            "252/252 - 7s - loss: 0.3685 - accuracy: 0.8001 - val_loss: 0.3649 - val_accuracy: 0.7997 - 7s/epoch - 26ms/step\n",
            "Epoch 6/56\n",
            "252/252 - 7s - loss: 0.3540 - accuracy: 0.8001 - val_loss: 0.3507 - val_accuracy: 0.7997 - 7s/epoch - 27ms/step\n",
            "Epoch 7/56\n",
            "252/252 - 8s - loss: 0.3426 - accuracy: 0.8001 - val_loss: 0.3410 - val_accuracy: 0.7997 - 8s/epoch - 32ms/step\n",
            "Epoch 8/56\n",
            "252/252 - 7s - loss: 0.3316 - accuracy: 0.8288 - val_loss: 0.3291 - val_accuracy: 0.8470 - 7s/epoch - 26ms/step\n",
            "Epoch 9/56\n",
            "252/252 - 7s - loss: 0.3211 - accuracy: 0.8579 - val_loss: 0.3242 - val_accuracy: 0.8881 - 7s/epoch - 28ms/step\n",
            "Epoch 10/56\n",
            "252/252 - 8s - loss: 0.3131 - accuracy: 0.8868 - val_loss: 0.3152 - val_accuracy: 0.8968 - 8s/epoch - 33ms/step\n",
            "Epoch 11/56\n",
            "252/252 - 7s - loss: 0.3048 - accuracy: 0.8909 - val_loss: 0.3118 - val_accuracy: 0.8910 - 7s/epoch - 26ms/step\n",
            "Epoch 12/56\n",
            "252/252 - 7s - loss: 0.3058 - accuracy: 0.8924 - val_loss: 0.2962 - val_accuracy: 0.9012 - 7s/epoch - 27ms/step\n",
            "Epoch 13/56\n",
            "252/252 - 7s - loss: 0.2941 - accuracy: 0.8963 - val_loss: 0.2856 - val_accuracy: 0.9078 - 7s/epoch - 26ms/step\n",
            "Epoch 14/56\n",
            "252/252 - 7s - loss: 0.2917 - accuracy: 0.8990 - val_loss: 0.2878 - val_accuracy: 0.8910 - 7s/epoch - 26ms/step\n",
            "Epoch 15/56\n",
            "252/252 - 7s - loss: 0.2923 - accuracy: 0.8993 - val_loss: 0.2722 - val_accuracy: 0.9186 - 7s/epoch - 26ms/step\n",
            "Epoch 16/56\n",
            "252/252 - 7s - loss: 0.2826 - accuracy: 0.9055 - val_loss: 0.2678 - val_accuracy: 0.9136 - 7s/epoch - 26ms/step\n",
            "Epoch 17/56\n",
            "252/252 - 7s - loss: 0.3096 - accuracy: 0.8940 - val_loss: 0.3823 - val_accuracy: 0.8843 - 7s/epoch - 26ms/step\n",
            "Epoch 18/56\n",
            "252/252 - 7s - loss: 0.2894 - accuracy: 0.9017 - val_loss: 0.2809 - val_accuracy: 0.9090 - 7s/epoch - 26ms/step\n",
            "Epoch 19/56\n",
            "252/252 - 7s - loss: 0.3035 - accuracy: 0.8998 - val_loss: 0.2609 - val_accuracy: 0.9183 - 7s/epoch - 26ms/step\n",
            "Epoch 20/56\n",
            "252/252 - 7s - loss: 0.3113 - accuracy: 0.8927 - val_loss: 0.6414 - val_accuracy: 0.8116 - 7s/epoch - 26ms/step\n",
            "Epoch 21/56\n",
            "252/252 - 7s - loss: 0.2876 - accuracy: 0.9006 - val_loss: 0.2632 - val_accuracy: 0.9157 - 7s/epoch - 26ms/step\n",
            "Epoch 22/56\n",
            "252/252 - 7s - loss: 0.2990 - accuracy: 0.8978 - val_loss: 0.2856 - val_accuracy: 0.8957 - 7s/epoch - 27ms/step\n",
            "Epoch 23/56\n",
            "252/252 - 7s - loss: 0.2770 - accuracy: 0.9043 - val_loss: 0.2546 - val_accuracy: 0.9165 - 7s/epoch - 26ms/step\n",
            "Epoch 24/56\n",
            "252/252 - 7s - loss: 0.2825 - accuracy: 0.9027 - val_loss: 0.8310 - val_accuracy: 0.7783 - 7s/epoch - 26ms/step\n",
            "Epoch 25/56\n",
            "252/252 - 7s - loss: 0.3011 - accuracy: 0.9009 - val_loss: 0.2553 - val_accuracy: 0.9165 - 7s/epoch - 26ms/step\n",
            "Epoch 26/56\n",
            "252/252 - 7s - loss: 0.2653 - accuracy: 0.9073 - val_loss: 0.2510 - val_accuracy: 0.9159 - 7s/epoch - 26ms/step\n",
            "Epoch 27/56\n",
            "252/252 - 7s - loss: 0.2902 - accuracy: 0.9007 - val_loss: 0.2844 - val_accuracy: 0.8870 - 7s/epoch - 26ms/step\n",
            "Epoch 28/56\n",
            "252/252 - 7s - loss: 0.2752 - accuracy: 0.9060 - val_loss: 0.2476 - val_accuracy: 0.9168 - 7s/epoch - 26ms/step\n",
            "Epoch 29/56\n",
            "252/252 - 7s - loss: 0.2798 - accuracy: 0.9040 - val_loss: 0.4076 - val_accuracy: 0.8780 - 7s/epoch - 26ms/step\n",
            "Epoch 30/56\n",
            "252/252 - 7s - loss: 0.2640 - accuracy: 0.9086 - val_loss: 0.2464 - val_accuracy: 0.9226 - 7s/epoch - 26ms/step\n",
            "Epoch 31/56\n",
            "252/252 - 7s - loss: 0.3103 - accuracy: 0.8933 - val_loss: 0.2521 - val_accuracy: 0.9177 - 7s/epoch - 26ms/step\n",
            "Epoch 32/56\n",
            "252/252 - 6s - loss: 0.2881 - accuracy: 0.9030 - val_loss: 0.2608 - val_accuracy: 0.9029 - 6s/epoch - 26ms/step\n",
            "Epoch 33/56\n",
            "252/252 - 7s - loss: 0.2739 - accuracy: 0.9070 - val_loss: 0.2565 - val_accuracy: 0.9061 - 7s/epoch - 26ms/step\n",
            "Epoch 34/56\n",
            "252/252 - 7s - loss: 0.2627 - accuracy: 0.9088 - val_loss: 0.2414 - val_accuracy: 0.9232 - 7s/epoch - 26ms/step\n",
            "Epoch 35/56\n",
            "252/252 - 6s - loss: 0.2700 - accuracy: 0.9103 - val_loss: 0.2355 - val_accuracy: 0.9229 - 6s/epoch - 26ms/step\n",
            "Epoch 36/56\n",
            "252/252 - 7s - loss: 0.2820 - accuracy: 0.9066 - val_loss: 0.2974 - val_accuracy: 0.9058 - 7s/epoch - 26ms/step\n",
            "Epoch 37/56\n",
            "252/252 - 6s - loss: 0.2784 - accuracy: 0.9109 - val_loss: 0.2410 - val_accuracy: 0.9191 - 6s/epoch - 26ms/step\n",
            "Epoch 38/56\n",
            "252/252 - 7s - loss: 0.2693 - accuracy: 0.9094 - val_loss: 0.2402 - val_accuracy: 0.9267 - 7s/epoch - 26ms/step\n",
            "Epoch 39/56\n",
            "252/252 - 7s - loss: 0.2731 - accuracy: 0.9114 - val_loss: 0.2513 - val_accuracy: 0.9272 - 7s/epoch - 26ms/step\n",
            "Epoch 40/56\n",
            "252/252 - 7s - loss: 0.2758 - accuracy: 0.9120 - val_loss: 0.2372 - val_accuracy: 0.9299 - 7s/epoch - 26ms/step\n",
            "Epoch 41/56\n",
            "252/252 - 7s - loss: 0.2777 - accuracy: 0.9117 - val_loss: 0.2318 - val_accuracy: 0.9293 - 7s/epoch - 26ms/step\n",
            "Epoch 42/56\n",
            "252/252 - 7s - loss: 0.3002 - accuracy: 0.9055 - val_loss: 0.2598 - val_accuracy: 0.9203 - 7s/epoch - 26ms/step\n",
            "Epoch 43/56\n",
            "252/252 - 7s - loss: 0.2819 - accuracy: 0.9107 - val_loss: 0.2399 - val_accuracy: 0.9229 - 7s/epoch - 26ms/step\n",
            "Epoch 44/56\n",
            "252/252 - 7s - loss: 0.2668 - accuracy: 0.9137 - val_loss: 0.2358 - val_accuracy: 0.9226 - 7s/epoch - 26ms/step\n",
            "Epoch 45/56\n",
            "252/252 - 7s - loss: 0.2803 - accuracy: 0.9092 - val_loss: 0.2302 - val_accuracy: 0.9299 - 7s/epoch - 26ms/step\n",
            "Epoch 46/56\n",
            "252/252 - 7s - loss: 0.2702 - accuracy: 0.9052 - val_loss: 0.2348 - val_accuracy: 0.9304 - 7s/epoch - 26ms/step\n",
            "Epoch 47/56\n",
            "252/252 - 7s - loss: 0.2655 - accuracy: 0.9106 - val_loss: 0.2388 - val_accuracy: 0.9270 - 7s/epoch - 26ms/step\n",
            "Epoch 48/56\n",
            "252/252 - 7s - loss: 0.2624 - accuracy: 0.9116 - val_loss: 0.2413 - val_accuracy: 0.9272 - 7s/epoch - 26ms/step\n",
            "Epoch 49/56\n",
            "252/252 - 7s - loss: 0.2954 - accuracy: 0.9041 - val_loss: 0.2296 - val_accuracy: 0.9293 - 7s/epoch - 26ms/step\n",
            "Epoch 50/56\n",
            "252/252 - 7s - loss: 0.3325 - accuracy: 0.8897 - val_loss: 0.2390 - val_accuracy: 0.9159 - 7s/epoch - 26ms/step\n",
            "Epoch 51/56\n",
            "252/252 - 7s - loss: 0.2684 - accuracy: 0.8984 - val_loss: 0.2381 - val_accuracy: 0.9217 - 7s/epoch - 26ms/step\n",
            "Epoch 52/56\n",
            "252/252 - 7s - loss: 0.2531 - accuracy: 0.9127 - val_loss: 0.2318 - val_accuracy: 0.9241 - 7s/epoch - 26ms/step\n",
            "Epoch 53/56\n",
            "252/252 - 7s - loss: 0.2571 - accuracy: 0.9107 - val_loss: 0.2528 - val_accuracy: 0.9049 - 7s/epoch - 26ms/step\n",
            "Epoch 54/56\n",
            "252/252 - 7s - loss: 0.2628 - accuracy: 0.9051 - val_loss: 0.2440 - val_accuracy: 0.9148 - 7s/epoch - 26ms/step\n",
            "Epoch 55/56\n",
            "252/252 - 7s - loss: 0.2813 - accuracy: 0.9087 - val_loss: 0.2299 - val_accuracy: 0.9246 - 7s/epoch - 27ms/step\n",
            "Epoch 56/56\n",
            "252/252 - 7s - loss: 0.2587 - accuracy: 0.9125 - val_loss: 0.2268 - val_accuracy: 0.9209 - 7s/epoch - 26ms/step\n"
          ]
        }
      ]
    },
    {
      "cell_type": "code",
      "source": [
        "def plot_results(H):\n",
        "    results = pd.DataFrame({\"Train Loss\": H.history['loss'], \"Validation Loss\": H.history['val_loss'],\n",
        "              \"Train Accuracy\": H.history['accuracy'], \"Validation Accuracy\": H.history['val_accuracy']\n",
        "             })\n",
        "    fig, ax = plt.subplots(nrows=2, figsize=(16, 9))\n",
        "    results[[\"Train Loss\", \"Validation Loss\"]].plot(ax=ax[0])\n",
        "    results[[\"Train Accuracy\", \"Validation Accuracy\"]].plot(ax=ax[1])\n",
        "    ax[0].set_xlabel(\"Epoch\")\n",
        "    ax[1].set_xlabel(\"Epoch\")\n",
        "    plt.show()"
      ],
      "metadata": {
        "id": "ddovnRMyYbeb"
      },
      "execution_count": null,
      "outputs": []
    },
    {
      "cell_type": "code",
      "source": [
        "plot_results(H)"
      ],
      "metadata": {
        "colab": {
          "base_uri": "https://localhost:8080/",
          "height": 385
        },
        "id": "k5RC89rvYr6x",
        "outputId": "8598f6a0-76b5-421d-d6e3-88d0e17941c3"
      },
      "execution_count": null,
      "outputs": [
        {
          "output_type": "display_data",
          "data": {
            "text/plain": [
              "<Figure size 1152x648 with 2 Axes>"
            ],
            "image/png": "[encoded data removed]"
          },
          "metadata": {
            "needs_background": "light"
          }
        }
      ]
    },
    {
      "cell_type": "code",
      "source": [
        "# Final evaluation of the model\n",
        "scores = model.evaluate(X_test, y_test, verbose=0)\n",
        "print(\"Accuracy: %.2f%%\" % (scores[1]*100))"
      ],
      "metadata": {
        "id": "t4ejeAXyU1fK",
        "colab": {
          "base_uri": "https://localhost:8080/"
        },
        "outputId": "49128f3d-e128-453f-c42b-5f56b29158e1"
      },
      "execution_count": null,
      "outputs": [
        {
          "output_type": "stream",
          "name": "stdout",
          "text": [
            "Accuracy: 92.09%\n"
          ]
        }
      ]
    }
  ]
}